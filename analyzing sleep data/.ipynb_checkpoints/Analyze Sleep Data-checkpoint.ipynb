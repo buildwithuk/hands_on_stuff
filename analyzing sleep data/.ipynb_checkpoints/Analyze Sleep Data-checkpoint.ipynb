{
 "cells": [
  {
   "cell_type": "markdown",
   "metadata": {},
   "source": [
    "<b> This is Part 2 of the series How well is your sleep <b> "
   ]
  },
  {
   "cell_type": "markdown",
   "metadata": {},
   "source": [
    "Below are the imports we are using. We are using Pandas library for the data manipulation. Scikit learning for the Linear Regression and matplotlib to plot the graph."
   ]
  },
  {
   "cell_type": "code",
   "execution_count": 6,
   "metadata": {},
   "outputs": [],
   "source": [
    "import pandas as pd;\n",
    "from pandas import DataFrame as df\n",
    "from matplotlib import pyplot\n",
    "from sklearn.linear_model import LinearRegression"
   ]
  },
  {
   "cell_type": "markdown",
   "metadata": {},
   "source": [
    "We read the data. This is the data we saw in the <a href=\"https://medium.com/listening-data/how-well-is-your-sleep-part-1-4c3e2fac5c73\">Part 1 of How well is your sleep</a>"
   ]
  },
  {
   "cell_type": "code",
   "execution_count": 4,
   "metadata": {},
   "outputs": [
    {
     "data": {
      "text/html": [
       "<div>\n",
       "<style scoped>\n",
       "    .dataframe tbody tr th:only-of-type {\n",
       "        vertical-align: middle;\n",
       "    }\n",
       "\n",
       "    .dataframe tbody tr th {\n",
       "        vertical-align: top;\n",
       "    }\n",
       "\n",
       "    .dataframe thead th {\n",
       "        text-align: right;\n",
       "    }\n",
       "</style>\n",
       "<table border=\"1\" class=\"dataframe\">\n",
       "  <thead>\n",
       "    <tr style=\"text-align: right;\">\n",
       "      <th></th>\n",
       "      <th>Sid</th>\n",
       "      <th>Sleep Quality</th>\n",
       "      <th>Time in Bed</th>\n",
       "      <th>Wake up</th>\n",
       "      <th>Sleep Notes</th>\n",
       "      <th>Heart Rate</th>\n",
       "      <th>Worked Out</th>\n",
       "      <th>Stressed</th>\n",
       "      <th>Late Meal</th>\n",
       "      <th>Caffeinated</th>\n",
       "      <th>Minutes in Bed</th>\n",
       "    </tr>\n",
       "  </thead>\n",
       "  <tbody>\n",
       "    <tr>\n",
       "      <th>0</th>\n",
       "      <td>1</td>\n",
       "      <td>100</td>\n",
       "      <td>8:32</td>\n",
       "      <td>Good</td>\n",
       "      <td>NaN</td>\n",
       "      <td>59</td>\n",
       "      <td>NaN</td>\n",
       "      <td>NaN</td>\n",
       "      <td>NaN</td>\n",
       "      <td>NaN</td>\n",
       "      <td>512</td>\n",
       "    </tr>\n",
       "    <tr>\n",
       "      <th>1</th>\n",
       "      <td>2</td>\n",
       "      <td>3</td>\n",
       "      <td>0:16</td>\n",
       "      <td>Ok</td>\n",
       "      <td>Stressful day</td>\n",
       "      <td>72</td>\n",
       "      <td>False</td>\n",
       "      <td>True</td>\n",
       "      <td>False</td>\n",
       "      <td>LOW</td>\n",
       "      <td>16</td>\n",
       "    </tr>\n",
       "    <tr>\n",
       "      <th>2</th>\n",
       "      <td>3</td>\n",
       "      <td>98</td>\n",
       "      <td>8:30</td>\n",
       "      <td>Ok</td>\n",
       "      <td>NaN</td>\n",
       "      <td>57</td>\n",
       "      <td>NaN</td>\n",
       "      <td>NaN</td>\n",
       "      <td>NaN</td>\n",
       "      <td>NaN</td>\n",
       "      <td>510</td>\n",
       "    </tr>\n",
       "    <tr>\n",
       "      <th>3</th>\n",
       "      <td>4</td>\n",
       "      <td>65</td>\n",
       "      <td>7:32</td>\n",
       "      <td>NaN</td>\n",
       "      <td>NaN</td>\n",
       "      <td>59</td>\n",
       "      <td>NaN</td>\n",
       "      <td>NaN</td>\n",
       "      <td>NaN</td>\n",
       "      <td>NaN</td>\n",
       "      <td>452</td>\n",
       "    </tr>\n",
       "    <tr>\n",
       "      <th>4</th>\n",
       "      <td>5</td>\n",
       "      <td>72</td>\n",
       "      <td>6:44</td>\n",
       "      <td>Good</td>\n",
       "      <td>Drank coffee:Drank tea</td>\n",
       "      <td>68</td>\n",
       "      <td>False</td>\n",
       "      <td>False</td>\n",
       "      <td>False</td>\n",
       "      <td>HIGH</td>\n",
       "      <td>404</td>\n",
       "    </tr>\n",
       "  </tbody>\n",
       "</table>\n",
       "</div>"
      ],
      "text/plain": [
       "   Sid  Sleep Quality Time in Bed Wake up             Sleep Notes  Heart Rate  \\\n",
       "0    1            100        8:32    Good                     NaN          59   \n",
       "1    2              3        0:16      Ok           Stressful day          72   \n",
       "2    3             98        8:30      Ok                     NaN          57   \n",
       "3    4             65        7:32     NaN                     NaN          59   \n",
       "4    5             72        6:44    Good  Drank coffee:Drank tea          68   \n",
       "\n",
       "  Worked Out Stressed Late Meal Caffeinated  Minutes in Bed  \n",
       "0        NaN      NaN       NaN         NaN             512  \n",
       "1      False     True     False         LOW              16  \n",
       "2        NaN      NaN       NaN         NaN             510  \n",
       "3        NaN      NaN       NaN         NaN             452  \n",
       "4      False    False     False        HIGH             404  "
      ]
     },
     "execution_count": 4,
     "metadata": {},
     "output_type": "execute_result"
    }
   ],
   "source": [
    "data = pd.read_csv('Sleep data transformed.csv')\n",
    "data.head()"
   ]
  },
  {
   "cell_type": "markdown",
   "metadata": {},
   "source": [
    "Lets plot the data for Sleep Quality, against Minutes in Bed. Minutes in Bed is the Feature where Sleep Quality is the Target"
   ]
  },
  {
   "cell_type": "code",
   "execution_count": 9,
   "metadata": {},
   "outputs": [
    {
     "data": {
      "image/png": "[encoded data removed]",
      "text/plain": [
       "<Figure size 432x288 with 1 Axes>"
      ]
     },
     "metadata": {
      "needs_background": "light"
     },
     "output_type": "display_data"
    }
   ],
   "source": [
    "pyplot.scatter(data['Minutes in Bed'], data['Sleep Quality'])\n",
    "pyplot.xlabel('Minutes in Bed')\n",
    "pyplot.ylabel('Sleep Quality')\n",
    "pyplot.title('Minutes in Bed against Sleep Quality')\n",
    "pyplot.show()"
   ]
  },
  {
   "cell_type": "markdown",
   "metadata": {},
   "source": [
    "Now we see our data is in two parts. The first cloud is when the <b>feature is almost by 200</b> whereas the <b>other cloud starts almost by 300</b>\n",
    "We we shall do is to study the data using first cluster, second cluster and then combined data. "
   ]
  },
  {
   "cell_type": "markdown",
   "metadata": {},
   "source": [
    "<h3>Cloud 1</h3><br/>\n",
    "Lets study it below"
   ]
  },
  {
   "cell_type": "code",
   "execution_count": 12,
   "metadata": {
    "scrolled": true
   },
   "outputs": [
    {
     "data": {
      "image/png": "[encoded data removed]",
      "text/plain": [
       "<Figure size 432x288 with 1 Axes>"
      ]
     },
     "metadata": {
      "needs_background": "light"
     },
     "output_type": "display_data"
    }
   ],
   "source": [
    "X1 = df(data[data['Minutes in Bed'] < 210]['Minutes in Bed'])\n",
    "Y1 = df(data[data['Minutes in Bed'] < 210]['Sleep Quality'])\n",
    "\n",
    "pyplot.scatter(X1, Y1)\n",
    "pyplot.xlabel('Minutes in Bed')\n",
    "pyplot.ylabel('Sleep Quality')\n",
    "pyplot.title('Minutes in Bed against Sleep Quality')\n",
    "pyplot.show()"
   ]
  },
  {
   "cell_type": "markdown",
   "metadata": {},
   "source": [
    "<b><i>Creating model for Cloud 1 using Regression keeping the things simple</i></b>"
   ]
  },
  {
   "cell_type": "code",
   "execution_count": 14,
   "metadata": {},
   "outputs": [
    {
     "data": {
      "image/png": "[encoded data removed]",
      "text/plain": [
       "<Figure size 432x288 with 1 Axes>"
      ]
     },
     "metadata": {
      "needs_background": "light"
     },
     "output_type": "display_data"
    }
   ],
   "source": [
    "regression = LinearRegression()\n",
    "regression.fit(X1, Y1)\n",
    "pyplot.scatter(X1, Y1)\n",
    "pyplot.title('Sleep Quality against minutes spent in bed')\n",
    "pyplot.xlabel('Minute in bed')\n",
    "pyplot.ylabel('Sleep Quality')\n",
    "pyplot.plot(X1, regression.predict(X1), color='red')\n",
    "\n",
    "pyplot.show()"
   ]
  },
  {
   "cell_type": "markdown",
   "metadata": {},
   "source": [
    "Now the coefficient and intercept are as following"
   ]
  },
  {
   "cell_type": "code",
   "execution_count": 15,
   "metadata": {},
   "outputs": [
    {
     "name": "stdout",
     "output_type": "stream",
     "text": [
      "Coefficient: \n",
      "[[0.19007052]]\n",
      "Intercept: \n",
      "[0.7341611]\n"
     ]
    }
   ],
   "source": [
    "print('Coefficient: ')\n",
    "print(regression.coef_)\n",
    "print('Intercept: ')\n",
    "print(regression.intercept_)"
   ]
  },
  {
   "cell_type": "markdown",
   "metadata": {},
   "source": [
    "Now if I spend 45, 120 and 180 minutes sleeping, how is my sleep? The answer is below:"
   ]
  },
  {
   "cell_type": "code",
   "execution_count": 17,
   "metadata": {},
   "outputs": [
    {
     "name": "stdout",
     "output_type": "stream",
     "text": [
      "[[ 9.28733437]\n",
      " [23.54262314]\n",
      " [34.94685416]]\n"
     ]
    }
   ],
   "source": [
    "print(regression.predict(df([45, 120, 180])))"
   ]
  },
  {
   "cell_type": "markdown",
   "metadata": {},
   "source": [
    "<h3>Cloud 2</h3><br/>\n",
    "Lets study it below"
   ]
  },
  {
   "cell_type": "code",
   "execution_count": 19,
   "metadata": {},
   "outputs": [
    {
     "data": {
      "text/plain": [
       "LinearRegression(copy_X=True, fit_intercept=True, n_jobs=None, normalize=True)"
      ]
     },
     "execution_count": 19,
     "metadata": {},
     "output_type": "execute_result"
    }
   ],
   "source": [
    "X2 = df(data[data['Minutes in Bed'] > 210]['Minutes in Bed'])\n",
    "Y2 = df(data[data['Minutes in Bed'] > 210]['Sleep Quality'])"
   ]
  },
  {
   "cell_type": "markdown",
   "metadata": {},
   "source": [
    "<b><i>Creating model for Cloud 2 using Regression keeping the things simple</i></b>"
   ]
  },
  {
   "cell_type": "code",
   "execution_count": 20,
   "metadata": {},
   "outputs": [
    {
     "data": {
      "image/png": "[encoded data removed]",
      "text/plain": [
       "<Figure size 432x288 with 1 Axes>"
      ]
     },
     "metadata": {
      "needs_background": "light"
     },
     "output_type": "display_data"
    }
   ],
   "source": [
    "regression1 = LinearRegression()\n",
    "regression1.fit(X2, Y2)\n",
    "pyplot.scatter(X2, Y2)\n",
    "pyplot.title('Sleep Quality against minutes spent in bed')\n",
    "pyplot.xlabel('Minute in bed')\n",
    "pyplot.ylabel('Sleep Quality')\n",
    "pyplot.plot(X2, regression1.predict(X2), color='red')\n",
    "\n",
    "pyplot.show()"
   ]
  },
  {
   "cell_type": "markdown",
   "metadata": {},
   "source": [
    "Now the coefficient and intercept are as following"
   ]
  },
  {
   "cell_type": "code",
   "execution_count": 22,
   "metadata": {},
   "outputs": [
    {
     "name": "stdout",
     "output_type": "stream",
     "text": [
      "Coefficient: \n",
      "[[0.10147192]]\n",
      "Intercept: \n",
      "[29.00180394]\n"
     ]
    }
   ],
   "source": [
    "print('Coefficient: ')\n",
    "print(regression1.coef_)\n",
    "print('Intercept: ')\n",
    "print(regression1.intercept_)"
   ]
  },
  {
   "cell_type": "markdown",
   "metadata": {},
   "source": [
    "Now if I spend 45, 120 and 180 minutes sleeping, how is my sleep? The answer is below:"
   ]
  },
  {
   "cell_type": "code",
   "execution_count": 23,
   "metadata": {},
   "outputs": [
    {
     "data": {
      "text/plain": [
       "array([[33.56804026],\n",
       "       [41.17843414],\n",
       "       [47.26674925]])"
      ]
     },
     "execution_count": 23,
     "metadata": {},
     "output_type": "execute_result"
    }
   ],
   "source": [
    "regression1.predict(df([45, 120, 180]))"
   ]
  },
  {
   "cell_type": "markdown",
   "metadata": {},
   "source": [
    "<h3>Combined Cloud</h3><br/>\n",
    "Lets study it below"
   ]
  },
  {
   "cell_type": "code",
   "execution_count": 24,
   "metadata": {},
   "outputs": [],
   "source": [
    "X = df(data, columns=['Minutes in Bed'])\n",
    "Y = df(data, columns=['Sleep Quality'])"
   ]
  },
  {
   "cell_type": "code",
   "execution_count": 25,
   "metadata": {},
   "outputs": [
    {
     "data": {
      "text/plain": [
       "LinearRegression(copy_X=True, fit_intercept=True, n_jobs=None, normalize=False)"
      ]
     },
     "execution_count": 25,
     "metadata": {},
     "output_type": "execute_result"
    }
   ],
   "source": [
    "regression2 = LinearRegression()\n",
    "regression2.fit(X, Y)"
   ]
  },
  {
   "cell_type": "markdown",
   "metadata": {},
   "source": [
    "<b><i>Creating model for the combined Cloud using Regression keeping the things simple</i></b>"
   ]
  },
  {
   "cell_type": "code",
   "execution_count": 27,
   "metadata": {},
   "outputs": [
    {
     "data": {
      "image/png": "[encoded data removed]",
      "text/plain": [
       "<Figure size 432x288 with 1 Axes>"
      ]
     },
     "metadata": {
      "needs_background": "light"
     },
     "output_type": "display_data"
    }
   ],
   "source": [
    "pyplot.scatter(X, Y)\n",
    "pyplot.title('Sleep Quality against minutes spent in bed')\n",
    "pyplot.xlabel('Minute in bed')\n",
    "pyplot.ylabel('Sleep Quality')\n",
    "pyplot.plot(X, regression.predict(X), color='red')\n",
    "\n",
    "pyplot.show()"
   ]
  },
  {
   "cell_type": "code",
   "execution_count": 28,
   "metadata": {},
   "outputs": [
    {
     "data": {
      "text/plain": [
       "array([[17.47089029],\n",
       "       [27.89791495],\n",
       "       [36.23953467]])"
      ]
     },
     "execution_count": 28,
     "metadata": {},
     "output_type": "execute_result"
    }
   ],
   "source": [
    "regression2.predict(df([45, 120, 180]))"
   ]
  },
  {
   "cell_type": "markdown",
   "metadata": {},
   "source": [
    "Now the coefficient and intercept are as following"
   ]
  },
  {
   "cell_type": "code",
   "execution_count": 29,
   "metadata": {},
   "outputs": [
    {
     "name": "stdout",
     "output_type": "stream",
     "text": [
      "Coefficient: \n",
      "[[0.139027]]\n",
      "Intercept: \n",
      "[11.21467549]\n"
     ]
    }
   ],
   "source": [
    "print('Coefficient: ')\n",
    "print(regression2.coef_)\n",
    "print('Intercept: ')\n",
    "print(regression2.intercept_)"
   ]
  }
 ],
 "metadata": {
  "kernelspec": {
   "display_name": "Python 3",
   "language": "python",
   "name": "python3"
  },
  "language_info": {
   "codemirror_mode": {
    "name": "ipython",
    "version": 3
   },
   "file_extension": ".py",
   "mimetype": "text/x-python",
   "name": "python",
   "nbconvert_exporter": "python",
   "pygments_lexer": "ipython3",
   "version": "3.7.3"
  }
 },
 "nbformat": 4,
 "nbformat_minor": 2
}
